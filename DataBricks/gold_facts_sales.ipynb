{
 "cells": [
  {
   "cell_type": "markdown",
   "metadata": {
    "application/vnd.databricks.v1+cell": {
     "cellMetadata": {
      "byteLimit": 2048000,
      "rowLimit": 10000
     },
     "inputWidgets": {},
     "nuid": "b19da6a3-08c0-43fe-a117-d0e015895c4c",
     "showTitle": false,
     "tableResultSettingsMap": {},
     "title": ""
    }
   },
   "source": [
    "##CREATE FACT TABLE"
   ]
  },
  {
   "cell_type": "markdown",
   "metadata": {
    "application/vnd.databricks.v1+cell": {
     "cellMetadata": {
      "byteLimit": 2048000,
      "rowLimit": 10000
     },
     "inputWidgets": {},
     "nuid": "a0c424be-8339-4720-81eb-8aaf32b5d6d1",
     "showTitle": false,
     "tableResultSettingsMap": {},
     "title": ""
    }
   },
   "source": [
    "***Reading Silver Data***\n"
   ]
  },
  {
   "cell_type": "code",
   "execution_count": 0,
   "metadata": {
    "application/vnd.databricks.v1+cell": {
     "cellMetadata": {
      "byteLimit": 2048000,
      "implicitDf": true,
      "rowLimit": 10000
     },
     "inputWidgets": {},
     "nuid": "d2417267-81bd-4bba-988c-33176a8bf633",
     "showTitle": false,
     "tableResultSettingsMap": {},
     "title": ""
    }
   },
   "outputs": [],
   "source": [
    "\n",
    "df_silver=spark.sql('''\n",
    "        SELECT * \n",
    "        from parquet.`abfss://silver@carkrishdatalake.dfs.core.windows.net/Carsales`\n",
    "        ''')"
   ]
  },
  {
   "cell_type": "code",
   "execution_count": 0,
   "metadata": {
    "application/vnd.databricks.v1+cell": {
     "cellMetadata": {
      "byteLimit": 2048000,
      "rowLimit": 10000
     },
     "inputWidgets": {},
     "nuid": "f2f41ba6-bd69-41e3-922b-652aa8db3e61",
     "showTitle": false,
     "tableResultSettingsMap": {},
     "title": ""
    }
   },
   "outputs": [],
   "source": [
    "df_silver.display()"
   ]
  },
  {
   "cell_type": "markdown",
   "metadata": {
    "application/vnd.databricks.v1+cell": {
     "cellMetadata": {
      "byteLimit": 2048000,
      "rowLimit": 10000
     },
     "inputWidgets": {},
     "nuid": "47f05462-9cfc-4047-8b85-a93145f666f5",
     "showTitle": false,
     "tableResultSettingsMap": {},
     "title": ""
    }
   },
   "source": [
    "***rading all the dimesions "
   ]
  },
  {
   "cell_type": "code",
   "execution_count": 0,
   "metadata": {
    "application/vnd.databricks.v1+cell": {
     "cellMetadata": {
      "byteLimit": 2048000,
      "rowLimit": 10000
     },
     "inputWidgets": {},
     "nuid": "6b5978dc-5d02-413f-9dc7-95393be15100",
     "showTitle": false,
     "tableResultSettingsMap": {},
     "title": ""
    }
   },
   "outputs": [],
   "source": [
    "df_dealer=spark.sql('''\n",
    "                    select * from cars_catalog.gold.dim_dealer\n",
    "                    ''')\n",
    "df_branch=spark.sql('''\n",
    "                    select * from cars_catalog.gold.dim_branch\n",
    "                    ''')\n",
    "df_date=spark.sql('''\n",
    "                    select * from cars_catalog.gold.dim_date\n",
    "                    ''')\n",
    "df_model=spark.sql('''\n",
    "                    select * from cars_catalog.gold.dim_model\n",
    "                    ''')"
   ]
  },
  {
   "cell_type": "markdown",
   "metadata": {
    "application/vnd.databricks.v1+cell": {
     "cellMetadata": {
      "byteLimit": 2048000,
      "rowLimit": 10000
     },
     "inputWidgets": {},
     "nuid": "713b71dc-c485-4d89-8a10-51bfbc53a850",
     "showTitle": false,
     "tableResultSettingsMap": {},
     "title": ""
    }
   },
   "source": [
    "***Bringing Keys to the fact table***"
   ]
  },
  {
   "cell_type": "code",
   "execution_count": 0,
   "metadata": {
    "application/vnd.databricks.v1+cell": {
     "cellMetadata": {
      "byteLimit": 2048000,
      "rowLimit": 10000
     },
     "inputWidgets": {},
     "nuid": "3efa5667-7632-4a6e-add3-bafe8b5caef3",
     "showTitle": false,
     "tableResultSettingsMap": {},
     "title": ""
    }
   },
   "outputs": [],
   "source": [
    "df_fact=df_silver.join(df_branch,df_silver['Branch_id']==df_branch['Branch_Id'],'left')\\\n",
    "                 .join(df_date,df_silver['Date_Id']==df_date['Date_Id'],'left')\\\n",
    "                 .join(df_dealer,df_silver['Dealer_Id']==df_dealer['Dealer_Id'],'left')\\\n",
    "                 .join(df_model,df_silver['Model_Id']==df_model['Model_Id'],'left')\\\n",
    "                .select(df_silver['Revenue'],df_silver['Units_Sold'],df_silver['RevenuePerUnits'],df_branch['dimi_branch_key'],df_dealer['dimi_dealer_key'],df_date['dimi_date_key'],df_model['dim_model_key'])"
   ]
  },
  {
   "cell_type": "code",
   "execution_count": 0,
   "metadata": {
    "application/vnd.databricks.v1+cell": {
     "cellMetadata": {
      "byteLimit": 2048000,
      "rowLimit": 10000
     },
     "inputWidgets": {},
     "nuid": "7861bc1f-7e1b-4ef5-8d6d-4126f9239dca",
     "showTitle": false,
     "tableResultSettingsMap": {},
     "title": ""
    }
   },
   "outputs": [],
   "source": [
    "df_fact.display()"
   ]
  },
  {
   "cell_type": "code",
   "execution_count": 0,
   "metadata": {
    "application/vnd.databricks.v1+cell": {
     "cellMetadata": {
      "byteLimit": 2048000,
      "rowLimit": 10000
     },
     "inputWidgets": {},
     "nuid": "50109643-f290-4463-8167-ff87b03f670c",
     "showTitle": false,
     "tableResultSettingsMap": {},
     "title": ""
    }
   },
   "outputs": [],
   "source": [
    "from delta.tables import DeltaTable"
   ]
  },
  {
   "cell_type": "code",
   "execution_count": 0,
   "metadata": {
    "application/vnd.databricks.v1+cell": {
     "cellMetadata": {
      "byteLimit": 2048000,
      "implicitDf": true,
      "rowLimit": 10000
     },
     "inputWidgets": {},
     "nuid": "39e75793-80df-4d2e-8372-572fa444dc8e",
     "showTitle": false,
     "tableResultSettingsMap": {},
     "title": ""
    }
   },
   "outputs": [],
   "source": [
    "if spark.catalog.tableExists('fact_sales'):\n",
    "    delta_table = DeltaTable.forPath(spark, 'cars_catalog.gold.fact_sales')\n",
    "\n",
    "    delta_table.alias('trg').merge(\n",
    "        df_fact.alias('src'),\n",
    "        'trg.dimi_branch_key = src.dimi_branch_key AND trg.dimi_dealer_key = src.dimi_dealer_key AND trg.dimi_date_key = src.dimi_date_key AND trg.dim_model_key = src.dim_model_key'\n",
    "    ).whenMatchedUpdateAll() \\\n",
    "     .whenNotMatchedInsertAll() \\\n",
    "     .execute()\n",
    "\n",
    "else:\n",
    "    # Save data using the external location you defined\n",
    "    df_fact.write.format('delta') \\\n",
    "        .mode('overwrite') \\\n",
    "        .option('path', 'abfss://gold@carkrishdatalake.dfs.core.windows.net/facts_sales') \\\n",
    "        .saveAsTable('cars_catalog.gold.fact_sales')\n"
   ]
  },
  {
   "cell_type": "code",
   "execution_count": 0,
   "metadata": {
    "application/vnd.databricks.v1+cell": {
     "cellMetadata": {
      "byteLimit": 2048000,
      "implicitDf": true,
      "rowLimit": 10000
     },
     "inputWidgets": {},
     "nuid": "e5930c65-e3a7-414b-b8cb-8b1d72b806d4",
     "showTitle": false,
     "tableResultSettingsMap": {},
     "title": ""
    }
   },
   "outputs": [],
   "source": [
    "%sql\n",
    "select * from cars_catalog.gold.fact_sales"
   ]
  },
  {
   "cell_type": "code",
   "execution_count": 0,
   "metadata": {
    "application/vnd.databricks.v1+cell": {
     "cellMetadata": {
      "byteLimit": 2048000,
      "rowLimit": 10000
     },
     "inputWidgets": {},
     "nuid": "f5ef2133-69cd-4a33-917e-5be8f16cac3d",
     "showTitle": false,
     "tableResultSettingsMap": {},
     "title": ""
    }
   },
   "outputs": [],
   "source": []
  }
 ],
 "metadata": {
  "application/vnd.databricks.v1+notebook": {
   "computePreferences": null,
   "dashboards": [],
   "environmentMetadata": {
    "base_environment": "",
    "client": "1"
   },
   "language": "python",
   "notebookMetadata": {
    "mostRecentlyExecutedCommandWithImplicitDF": {
     "commandId": 6172111835681338,
     "dataframes": [
      "_sqldf"
     ]
    },
    "pythonIndentUnit": 4
   },
   "notebookName": "gold_facts_sales",
   "widgets": {}
  },
  "language_info": {
   "name": "python"
  }
 },
 "nbformat": 4,
 "nbformat_minor": 0
}